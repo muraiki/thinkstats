{
 "metadata": {
  "name": ""
 },
 "nbformat": 3,
 "nbformat_minor": 0,
 "worksheets": [
  {
   "cells": [
    {
     "cell_type": "code",
     "collapsed": false,
     "input": [
      "import survey\n",
      "from math import sqrt \n",
      "import thinkstats\n",
      "\n",
      "def livebirths(table):\n",
      "  livebirths = 0\n",
      "\n",
      "  for each in table.records:\n",
      "    thisoutcome = each.outcome\n",
      "\n",
      "    if thisoutcome != \"N/A\" and thisoutcome == 1:\n",
      "      livebirths += 1\n",
      "\n",
      "  return livebirths\n",
      "\n",
      "def livebirthsfirst(table):\n",
      "  \"\"\"\n",
      "  Displays live births in two groups, one of first babies and one of others.\n",
      "  \"\"\"\n",
      "\n",
      "  firstbirths = 0\n",
      "  otherbirths = 0\n",
      "\n",
      "  for each in table.records:\n",
      "    thisoutcome = each.outcome\n",
      "    thisorder = each.birthord\n",
      "\n",
      "    if thisoutcome != \"N/A\" and thisoutcome == 1 and thisorder == 1:\n",
      "      firstbirths += 1\n",
      "\n",
      "    elif thisoutcome != \"N/A\" and thisoutcome == 1 and thisorder!= 1:\n",
      "      otherbirths += 1\n",
      "\n",
      "    else:\n",
      "      # Record was N/A\n",
      "      pass\n",
      "\n",
      "  return (firstbirths, otherbirths)\n",
      "\n",
      "def average_pregnancy_length_ord(table, birthord):\n",
      "  \"\"\"\n",
      "  Computes the average pregnancy length in weeks for live births.\n",
      "  Specify a particular birth order to be calculated.\n",
      "  \"\"\"\n",
      "\n",
      "  pregnancy_lengths = []\n",
      "\n",
      "  for each in table.records:\n",
      "    thisoutcome = each.outcome\n",
      "    thisorder = each.birthord\n",
      "    thisprglength = each.prglength\n",
      "\n",
      "    if thisoutcome != \"N/A\" and thisoutcome == 1 and thisorder == birthord and thisprglength in range(0, 51):\n",
      "      pregnancy_lengths.append(thisprglength)\n",
      "\n",
      "  return sum(pregnancy_lengths) / float(len(pregnancy_lengths))\n",
      "\n",
      "def average_pregnancy_length_other(table):\n",
      "  \"\"\"\n",
      "  Computes the average pregnancy length in weeks for non-first live births.\n",
      "  \"\"\"\n",
      "\n",
      "  pregnancy_lengths = []\n",
      "\n",
      "  for each in table.records:\n",
      "    thisoutcome = each.outcome\n",
      "    thisorder = each.birthord\n",
      "    thisprglength = each.prglength\n",
      "\n",
      "    if thisoutcome != \"N/A\" and thisoutcome == 1 and thisorder != 1 and thisprglength in range(0, 51):\n",
      "      pregnancy_lengths.append(thisprglength)\n",
      "\n",
      "  return sum(pregnancy_lengths) / float(len(pregnancy_lengths))\n",
      "\n",
      "def stdev_pregnancy_length_ord(table, birthord):\n",
      "  \"\"\"\n",
      "  Computes the standard deviation of pregnancy lengths in weeks for live births.\n",
      "  Specify a particular birth order to be calculated.\n",
      "  \"\"\"\n",
      "\n",
      "  pregnancy_lengths = []\n",
      "\n",
      "  for each in table.records:\n",
      "    thisoutcome = each.outcome\n",
      "    thisorder = each.birthord\n",
      "    thisprglength = each.prglength\n",
      "\n",
      "    if thisoutcome != \"N/A\" and thisoutcome == 1 and thisorder == birthord and thisprglength in range(0, 51):\n",
      "      pregnancy_lengths.append(thisprglength)\n",
      "\n",
      "  return sqrt(thinkstats.Var(pregnancy_lengths))\n",
      "\n",
      "def stdev_pregnancy_length_other(table):\n",
      "  \"\"\"\n",
      "  Computes the standard deviation of pregnancy lengths in weeks for non-first week live births.\n",
      "  \"\"\"\n",
      "\n",
      "  pregnancy_lengths = []\n",
      "\n",
      "  for each in table.records:\n",
      "    thisoutcome = each.outcome\n",
      "    thisorder = each.birthord\n",
      "    thisprglength = each.prglength\n",
      "\n",
      "    if thisoutcome != \"N/A\" and thisoutcome == 1 and thisorder != 1 and thisprglength in range(0, 51):\n",
      "      pregnancy_lengths.append(thisprglength)\n",
      "\n",
      "  return sqrt(thinkstats.Var(pregnancy_lengths))\n",
      "\n",
      "def main():\n",
      "  table = survey.Pregnancies()\n",
      "  table.ReadRecords()\n",
      "  print 'Number of pregnancies', len(table.records)\n",
      "  print 'Number of live births', livebirths(table)\n",
      "  print 'Number of first births is %i and other births is %i' % (livebirthsfirst(table))\n",
      "\n",
      "  avg_prglength_first = average_pregnancy_length_ord(table, 1)\n",
      "  avg_prglength_other = average_pregnancy_length_other(table)\n",
      "\n",
      "  print 'Average pregnancy length for first births: %f' % avg_prglength_first\n",
      "  print 'Average pregnancy length for other births: %f' % avg_prglength_other\n",
      "\n",
      "  sd_prglength_first = stdev_pregnancy_length_ord(table, 1)\n",
      "  sd_prglength_other = stdev_pregnancy_length_other(table)\n",
      "\n",
      "  print 'Standard deviation for first birth pregnancy length: %f' % sd_prglength_first\n",
      "  print 'Standard deviation for other birth pregnancy length: %f' % sd_prglength_other\n",
      "\n",
      "if __name__ == '__main__':\n",
      "    main()"
     ],
     "language": "python",
     "metadata": {},
     "outputs": [
      {
       "output_type": "stream",
       "stream": "stdout",
       "text": [
        "Number of pregnancies 13593\n",
        "Number of live births 9148\n",
        "Number of first births is 4413 and other births is 4735\n",
        "Average pregnancy length for first births: 38.600952\n",
        "Average pregnancy length for other births: 38.522914\n",
        "Standard deviation for first birth pregnancy length: 2.791585"
       ]
      },
      {
       "output_type": "stream",
       "stream": "stdout",
       "text": [
        "\n",
        "Standard deviation for other birth pregnancy length: 2.615576\n"
       ]
      }
     ],
     "prompt_number": 1
    },
    {
     "cell_type": "code",
     "collapsed": false,
     "input": [
      "import Pmf\n",
      "\n",
      "def mode(aHist):\n",
      "  valmode, freqmode = 0, 0\n",
      "  \n",
      "  for val, freq in aHist.Items():\n",
      "    if freq > freqmode:\n",
      "      valmode, freqmode = val, freq\n",
      "\n",
      "  return valmode\n",
      "\n",
      "def allModes(aHist):\n",
      "  return sorted(aHist.Items(), key=lambda x: x[1], reverse=True)\n",
      "\n",
      "def main():\n",
      "  lol = [1,2,2,3,3,3,4,4,4,4]\n",
      "\n",
      "  print mode(Pmf.MakeHistFromList(lol))\n",
      "\n",
      "  print allModes(Pmf.MakeHistFromList(lol))\n",
      "\n",
      "if __name__ == '__main__':\n",
      "  main()"
     ],
     "language": "python",
     "metadata": {},
     "outputs": [
      {
       "output_type": "stream",
       "stream": "stdout",
       "text": [
        "4\n",
        "[(4, 4), (3, 3), (2, 2), (1, 1)]\n"
       ]
      }
     ],
     "prompt_number": 2
    },
    {
     "cell_type": "code",
     "collapsed": false,
     "input": [
      "import matplotlib.pyplot as pyplot\n",
      "import Pmf\n",
      "\n",
      "lol = [1,2,2,3,3,3,4,4,4,4]\n",
      "\n",
      "lolHist = Pmf.MakeHistFromList(lol)\n",
      "\n",
      "vals, freqs = Pmf.Hist.Render(lolHist)\n",
      "rectangles = pyplot.bar(vals, freqs)\n",
      "pyplot.show()"
     ],
     "language": "python",
     "metadata": {},
     "outputs": [],
     "prompt_number": 2
    },
    {
     "cell_type": "code",
     "collapsed": false,
     "input": [
      "def RemainingLifetime(pmf, age):\n",
      "    remainingPmf = pmf.Copy()\n",
      "    pmfVals = remainingPmf.Values()\n",
      "    \n",
      "    for x in range(0, age):\n",
      "        if x in pmfVals:\n",
      "            remainingPmf.Remove(x)\n",
      "    \n",
      "    remainingPmf.Normalize()\n",
      "    \n",
      "    return remainingPmf\n",
      "\n",
      "def PmfToValsFreqs(pmf):\n",
      "    return map(list, zip(*pmf.Items()))\n",
      "\n",
      "rpmf = Pmf.MakePmfFromList([1,2,2,2,3,3,4,4,4,4,5,5,5])\n",
      "\n",
      "rpmf2 = RemainingLifetime(rpmf, 3)\n",
      "\n",
      "vals, freqs = PmfToValsFreqs(rpmf2)\n",
      "\n",
      "rectangles = pyplot.bar(vals, freqs)\n",
      "pyplot.show()"
     ],
     "language": "python",
     "metadata": {},
     "outputs": [],
     "prompt_number": 31
    },
    {
     "cell_type": "code",
     "collapsed": false,
     "input": [
      "testpmf = Pmf.MakePmfFromList([1,2,2,2,3,3,4,4,4,4,5,5,5])\n",
      "print testpmf.Items()"
     ],
     "language": "python",
     "metadata": {},
     "outputs": [
      {
       "output_type": "stream",
       "stream": "stdout",
       "text": [
        "[(1, 0.07692307692307693), (2, 0.23076923076923078), (3, 0.15384615384615385), (4, 0.3076923076923077), (5, 0.23076923076923078)]\n"
       ]
      }
     ],
     "prompt_number": 33
    },
    {
     "cell_type": "code",
     "collapsed": false,
     "input": [],
     "language": "python",
     "metadata": {},
     "outputs": []
    },
    {
     "cell_type": "code",
     "collapsed": false,
     "input": [
      "def PmfMean(pmf):\n",
      "    mu = 0\n",
      "    for x, p in pmf.Items():\n",
      "        mu += x * p\n",
      "    return mu\n",
      "\n",
      "PmfMean(testpmf) == testpmf.Mean()"
     ],
     "language": "python",
     "metadata": {},
     "outputs": [
      {
       "output_type": "stream",
       "stream": "stdout",
       "text": [
        "3.38461538462\n"
       ]
      }
     ],
     "prompt_number": 35
    },
    {
     "cell_type": "code",
     "collapsed": false,
     "input": [],
     "language": "python",
     "metadata": {},
     "outputs": []
    },
    {
     "cell_type": "code",
     "collapsed": false,
     "input": [
      "import math\n",
      "\n",
      "def PmfVar(pmf):\n",
      "    v = 0\n",
      "    mu = PmfMean(pmf)\n",
      "    for x, p in pmf.Items():\n",
      "        v += p * ((x - mu) ** 2)\n",
      "    return v\n",
      "\n",
      "print PmfVar(testpmf)\n",
      "print testpmf.Var()"
     ],
     "language": "python",
     "metadata": {},
     "outputs": [
      {
       "output_type": "stream",
       "stream": "stdout",
       "text": [
        "1.62130177515\n",
        "1.62130177515\n"
       ]
      }
     ],
     "prompt_number": 41
    },
    {
     "cell_type": "code",
     "collapsed": false,
     "input": [
      "# Line graph\n",
      "\n",
      "vals, freqs = PmfToValsFreqs(testpmf)\n",
      "pyplot.plot(vals, freqs)\n",
      "pyplot.show()"
     ],
     "language": "python",
     "metadata": {},
     "outputs": [],
     "prompt_number": 43
    },
    {
     "cell_type": "code",
     "collapsed": false,
     "input": [
      "# Risk\n",
      "\n",
      "def prob_birth(pmf, binstart, binend):\n",
      "    fracbirths = 0\n",
      "    for x in range(binstart, binend + 1):\n",
      "        fracbirths += pmf.Prob(x)\n",
      "    return fracbirths\n",
      "\n",
      "def prob_early(pmf):\n",
      "    return prob_birth(pmf, 0, 37)\n",
      "\n",
      "def prob_on_time(pmf):\n",
      "    return prob_birth(pmf, 38, 40)\n",
      "\n",
      "def prob_late(pmf):\n",
      "    return prob_birth(pmf, 41, 52)\n"
     ],
     "language": "python",
     "metadata": {},
     "outputs": []
    }
   ],
   "metadata": {}
  }
 ]
}